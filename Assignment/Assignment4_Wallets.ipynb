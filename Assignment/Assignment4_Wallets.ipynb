{
 "cells": [
  {
   "cell_type": "markdown",
   "metadata": {},
   "source": [
    "# Wallets\n"
   ]
  },
  {
   "cell_type": "markdown",
   "metadata": {},
   "source": [
    "User input 5 Wallest Numbers"
   ]
  },
  {
   "cell_type": "code",
   "execution_count": null,
   "metadata": {
    "scrolled": true
   },
   "outputs": [],
   "source": [
    "import os\n",
    "\n",
    "Wallets = {}\n",
    "Wallets[(\"Wallet 1\")] = input(\"First number:\")\n",
    "Wallets[(\"Wallet 2\")] = input(\"Second number:\")\n",
    "Wallets[(\"Wallet 3\")] = input(\"Third number:\")\n",
    "Wallets[(\"Wallet 4\")] = input(\"Fourth number:\")\n",
    "Wallets[(\"Wallet 5\")] = input(\"Fifth number:\")\n",
    "print(Wallets)"
   ]
  },
  {
   "cell_type": "markdown",
   "metadata": {},
   "source": [
    "Define User Input Main Window:\n",
    "* [1] The fattest wallet\n",
    "* [2] The skinniest wallet\n",
    "* [3] The sum of wallet\n",
    "* [4] The sum of wallet in dimes\n",
    "* [5] Exit"
   ]
  },
  {
   "cell_type": "code",
   "execution_count": 20,
   "metadata": {},
   "outputs": [],
   "source": [
    "def print_main_window():\n",
    "    os.system('clear')\n",
    "    print(\"Choose an option as follows: \")\n",
    "    print(\"[1] The fattest wallet has $ value in it.\")\n",
    "    print(\"[2] The skinniest wallet has $ value in it.\")\n",
    "    print(\"[3] All together, these wallets have $ value in them.\")\n",
    "    print(\"[4] All together, the total value of these wallets is worth $ dimes.\")\n",
    "    print(\"[5] EXIT\")"
   ]
  },
  {
   "cell_type": "markdown",
   "metadata": {},
   "source": [
    "Define: Calculate Maximum Wallets Number Function"
   ]
  },
  {
   "cell_type": "code",
   "execution_count": 21,
   "metadata": {},
   "outputs": [],
   "source": [
    "def Fattest(Wallets):\n",
    "    Wallets = max(Wallets.values())\n",
    "    return Wallets"
   ]
  },
  {
   "cell_type": "markdown",
   "metadata": {},
   "source": [
    "Define: Calculate Minimum Wallets Number Function"
   ]
  },
  {
   "cell_type": "code",
   "execution_count": 22,
   "metadata": {},
   "outputs": [],
   "source": [
    "def Skinniest(Wallets):\n",
    "    Wallets = min(Wallets.values())\n",
    "    return Wallets"
   ]
  },
  {
   "cell_type": "markdown",
   "metadata": {},
   "source": [
    "Define: Calculate the Sum of 5 Wallets Function"
   ]
  },
  {
   "cell_type": "code",
   "execution_count": 23,
   "metadata": {},
   "outputs": [],
   "source": [
    "def Together(Wallets):\n",
    "    Wallets = sum((int(v) for v in Wallets.values()))\n",
    "    return Wallets"
   ]
  },
  {
   "cell_type": "markdown",
   "metadata": {},
   "source": [
    "Define: Calculate the Sum of 5 Wallets in Dimes Function"
   ]
  },
  {
   "cell_type": "code",
   "execution_count": 24,
   "metadata": {},
   "outputs": [],
   "source": [
    "def Exchange(Wallets):\n",
    "    Dimes = 10*sum((int(v) for v in Wallets.values()))\n",
    "    return Dimes"
   ]
  },
  {
   "cell_type": "markdown",
   "metadata": {},
   "source": [
    "User Select Output Window to Calculate each Function:\n",
    "* [1] Calculate the fattest wallet\n",
    "* [2] Calculate the skinniest wallet\n",
    "* [3] Calculate the sum of wallet\n",
    "* [4] Calculate the sum of wallet in dimes\n",
    "* [5] Exit"
   ]
  },
  {
   "cell_type": "code",
   "execution_count": null,
   "metadata": {},
   "outputs": [],
   "source": [
    "while (True):\n",
    "    print_main_window()\n",
    "    option = int(input(\"Your option: \"))\n",
    "    os.system('clear')\n",
    "    if (option == 1):\n",
    "        print(\"The fattest wallet has $\",Fattest(Wallets),\"value in it\")\n",
    "    elif (option == 2):\n",
    "        print(\"The skinniest wallet has $\",Skinniest(Wallets),\"value in it\")\n",
    "    elif (option == 3):\n",
    "        print(\"All together, these wallets have $\",Together(Wallets),\"value in them\")\n",
    "    elif (option == 4):\n",
    "        print(\"All together, the total value of these wallets is worth $\",Exchange(Wallets),\"dimes\")\n",
    "    elif (option == 5):\n",
    "        break"
   ]
  }
 ],
 "metadata": {
  "kernelspec": {
   "display_name": "Python 3",
   "language": "python",
   "name": "python3"
  },
  "language_info": {
   "codemirror_mode": {
    "name": "ipython",
    "version": 3
   },
   "file_extension": ".py",
   "mimetype": "text/x-python",
   "name": "python",
   "nbconvert_exporter": "python",
   "pygments_lexer": "ipython3",
   "version": "3.7.3"
  }
 },
 "nbformat": 4,
 "nbformat_minor": 2
}
