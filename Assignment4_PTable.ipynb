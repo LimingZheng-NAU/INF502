{
 "cells": [
  {
   "cell_type": "markdown",
   "metadata": {},
   "source": [
    "# Periodic Table"
   ]
  },
  {
   "cell_type": "markdown",
   "metadata": {},
   "source": [
    "Input the part of the Periodic Table in Dictionary"
   ]
  },
  {
   "cell_type": "code",
   "execution_count": null,
   "metadata": {},
   "outputs": [],
   "source": [
    "import os\n",
    "\n",
    "Symbol = ['H','He','Li','Be','B','C']\n",
    "Name = ['Hydrogen','Helium','Lithium','Berylium','Boron','Carbon']\n",
    "AtomicNumber = ['1','2','3','4','5','6']\n",
    "Row = ['1','1','2','2','2','2']\n",
    "Column = ['1','18','1','2','13','14']\n",
    "PeriodicTable = {}\n",
    "for i in range(0, len(Symbol)):\n",
    "    PeriodicTable[Symbol[i]] = [Name[i], AtomicNumber[i], Row[i], Column[i]]\n",
    "print(\"PeriodicTable={'Symbol':['Name','Atomic_Number','Row','Column']}=\",PeriodicTable)"
   ]
  },
  {
   "cell_type": "markdown",
   "metadata": {},
   "source": [
    "Define User Input Window"
   ]
  },
  {
   "cell_type": "code",
   "execution_count": null,
   "metadata": {},
   "outputs": [],
   "source": [
    "def print_main_window():\n",
    "    os.system('clear')\n",
    "    print(\"Choose an option as follows: \")\n",
    "    print(\"[1] Enter element's symbol:\")\n",
    "    print(\"[2] Select Element's property:\")\n",
    "    print(\"[3] Enter new element's symbol:\")\n",
    "    print(\"[4] Enter element's symbol to change the attributes of an element:\")\n",
    "    print(\"[5] EXIT\")"
   ]
  },
  {
   "cell_type": "markdown",
   "metadata": {},
   "source": [
    "User Select Output Window to Calculate each Function:\n",
    "* [1] Enter the symbol to get the symbol property by using dictionary function\n",
    "* [2] Choose an property to show all the symbol property by using user window to select\n",
    "* [3] Enter the new symbol and new property adding to the Dictionary by using dictionary function\n",
    "* [4] Enter the symbol and new property of symbol changing to the Dictionary by using dictionary function\n",
    "* [5] Exit"
   ]
  },
  {
   "cell_type": "code",
   "execution_count": null,
   "metadata": {},
   "outputs": [],
   "source": [
    "while (True):\n",
    "    print_main_window()\n",
    "    option = int(input(\"Your option: \"))\n",
    "    os.system('clear')\n",
    "    if (option == 1):\n",
    "        key = input(\"Enter the symbol:\")\n",
    "        print(\"Name, Atomic_Number, Row, Column:\", PeriodicTable.get(key))\n",
    "    elif (option == 2):\n",
    "        def print_window():\n",
    "            os.system('clear')\n",
    "            print(\"Choose an property number: \")\n",
    "            print(\"[1] Name\")\n",
    "            print(\"[2] Atomic Number\")\n",
    "            print(\"[3] Row\")\n",
    "            print(\"[4] Column\")\n",
    "            print(\"[5] EXIT\")\n",
    "        while (True):\n",
    "            print_window()\n",
    "            option = int(input(\"Your option: \"))\n",
    "            os.system('clear')\n",
    "            if (option == 1):\n",
    "                print(Symbol,\":Symbol Name are:\",Name)\n",
    "            elif (option == 2):\n",
    "                print(Symbol,\":Symbol Atomic Number are:\",AtomicNumber)\n",
    "            elif (option == 3):\n",
    "                print(Symbol,\":Symbol Row are:\",Row)\n",
    "            elif (option == 4):\n",
    "                print(Symbol,\":Symbol Column are:\",Column)\n",
    "            elif (option == 5):\n",
    "                break\n",
    "    elif (option == 3):\n",
    "        NewSymbol = input(\"Enter new element's symbol:\")\n",
    "        property = input(\"Enter new element's property=['Name','Atomic_Number','Row','Column']=\")\n",
    "        Property = property.split(',')\n",
    "        PeriodicTable[NewSymbol] = Property\n",
    "        print(\"PeriodicTable={'Symbol':['Name','Atomic_Number','Row','Column']}=\",PeriodicTable)\n",
    "    elif (option == 4):\n",
    "        NewSymbol = input(\"Enter element's symbol:\")\n",
    "        property = input(\"Enter the element's new property=['Name','Atomic_Number','Row','Column']=:\")\n",
    "        Property = property.split(',')\n",
    "        PeriodicTable[NewSymbol] = Property\n",
    "        print(\"PeriodicTable={'Symbol':['Name','Atomic_Number','Row','Column']}=\",PeriodicTable)\n",
    "    elif (option == 5):\n",
    "        break"
   ]
  }
 ],
 "metadata": {
  "kernelspec": {
   "display_name": "Python 3",
   "language": "python",
   "name": "python3"
  },
  "language_info": {
   "codemirror_mode": {
    "name": "ipython",
    "version": 3
   },
   "file_extension": ".py",
   "mimetype": "text/x-python",
   "name": "python",
   "nbconvert_exporter": "python",
   "pygments_lexer": "ipython3",
   "version": "3.7.3"
  }
 },
 "nbformat": 4,
 "nbformat_minor": 2
}
