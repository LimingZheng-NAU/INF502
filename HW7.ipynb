{
 "cells": [
  {
   "cell_type": "markdown",
   "metadata": {},
   "source": [
    "### HW 7     \n",
    "##### Liming Zheng     \n",
    "I first compare the two numbers a and b, and get two numbers who are larger and who are smaller. Then judge whether the two numbers can be divided. If you can get rid of it, the smaller number is the answer we want. If you can't divide it, then divide it. After you get the remainder, the smaller number divide the previous remainder. Repeat this operation until the two numbers can be divided. The previous remainder number is our answer."
   ]
  },
  {
   "cell_type": "code",
   "execution_count": 1,
   "metadata": {},
   "outputs": [],
   "source": [
    "def GDF(a, b):\n",
    "    small = 0\n",
    "    large = 0\n",
    "    middle = 0\n",
    "    \n",
    "    if a < b:\n",
    "        small = a\n",
    "        large = b\n",
    "        if (large % small == 0):\n",
    "            return small\n",
    "        else:\n",
    "            gdf = large % small\n",
    "            middle = small\n",
    "            if (middle % gdf == 0):\n",
    "                return gdf\n",
    "            else:\n",
    "                return GDF(gdf , middle)\n",
    "                \n",
    "    else:\n",
    "        small = b\n",
    "        large = a\n",
    "        if (large % small == 0):\n",
    "            return small\n",
    "        else:\n",
    "            gdf = large % small\n",
    "            middle = small\n",
    "            if (middle % gdf == 0):\n",
    "                return gdf\n",
    "            else:\n",
    "                return GDF(gdf , middle)"
   ]
  },
  {
   "cell_type": "code",
   "execution_count": 2,
   "metadata": {},
   "outputs": [
    {
     "name": "stdout",
     "output_type": "stream",
     "text": [
      "6\n"
     ]
    }
   ],
   "source": [
    "print(GDF(48, 30))"
   ]
  }
 ],
 "metadata": {
  "kernelspec": {
   "display_name": "Python 3",
   "language": "python",
   "name": "python3"
  },
  "language_info": {
   "codemirror_mode": {
    "name": "ipython",
    "version": 3
   },
   "file_extension": ".py",
   "mimetype": "text/x-python",
   "name": "python",
   "nbconvert_exporter": "python",
   "pygments_lexer": "ipython3",
   "version": "3.7.3"
  }
 },
 "nbformat": 4,
 "nbformat_minor": 2
}
