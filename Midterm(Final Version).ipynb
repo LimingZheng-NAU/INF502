{
 "cells": [
  {
   "cell_type": "markdown",
   "metadata": {},
   "source": [
    "# Members: Juntong Liu, Liming Zheng, Pengkai Fang"
   ]
  },
  {
   "cell_type": "markdown",
   "metadata": {},
   "source": [
    "A constructor method: First create the name of each object in the class, define a list, read each line of the csv file, and store it in the list to save the attributes in csv into each object in the class."
   ]
  },
  {
   "cell_type": "markdown",
   "metadata": {},
   "source": [
    "Two class-associated methods: create each object in the Species class, store its address in the list, then call its address in the Bait class, so that the object speciescode is associated with it."
   ]
  },
  {
   "cell_type": "markdown",
   "metadata": {},
   "source": [
    "### Code"
   ]
  },
  {
   "cell_type": "markdown",
   "metadata": {},
   "source": [
    "Import module and create two lists"
   ]
  },
  {
   "cell_type": "code",
   "execution_count": null,
   "metadata": {},
   "outputs": [],
   "source": [
    "import csv\n",
    "import collections, functools, operator\n",
    "bait = []\n",
    "species = []"
   ]
  },
  {
   "cell_type": "markdown",
   "metadata": {},
   "source": [
    "Create class named Species"
   ]
  },
  {
   "cell_type": "code",
   "execution_count": null,
   "metadata": {},
   "outputs": [],
   "source": [
    "class Species:\n",
    "    def __init__(self, info):\n",
    "        self.speciescode = info[0]\n",
    "        self.genus = info[1]\n",
    "        self.altgenus = info[2]\n",
    "        self.species = info[3]\n",
    "        self.altspecies = info[4]\n",
    "        self.tribe = info[5]\n",
    "        self.subfamily = info[6]\n",
    "        self.IDissues = info[7]"
   ]
  },
  {
   "cell_type": "markdown",
   "metadata": {},
   "source": [
    "Create class named Bait"
   ]
  },
  {
   "cell_type": "code",
   "execution_count": null,
   "metadata": {},
   "outputs": [],
   "source": [
    "class Bait:\n",
    "    def __init__(self, month, year, plot, stake, info, abundance):\n",
    "\n",
    "        self.month = month\n",
    "        self.year = year\n",
    "        self.plot = plot\n",
    "        self.stake = stake\n",
    "        self.species = Species(info)\n",
    "        self.abundance = abundance"
   ]
  },
  {
   "cell_type": "markdown",
   "metadata": {},
   "source": [
    "Define print all objects data ant_bait with ant_species function"
   ]
  },
  {
   "cell_type": "code",
   "execution_count": null,
   "metadata": {},
   "outputs": [],
   "source": [
    "def print_bait_species(Bait):\n",
    "    print(Bait.month, Bait.year, Bait.plot, Bait.stake, Bait.species.speciescode, Bait.species.genus,\n",
    "          Bait.species.altgenus, Bait.species.species, Bait.species.altspecies, Bait.species.tribe,\n",
    "          Bait.species.subfamily, Bait.species.IDissues, Bait.abundance)"
   ]
  },
  {
   "cell_type": "markdown",
   "metadata": {},
   "source": [
    "Define user interaction interface function"
   ]
  },
  {
   "cell_type": "code",
   "execution_count": null,
   "metadata": {},
   "outputs": [],
   "source": [
    "def main_window():\n",
    "    print(\"1. Print objects from ant_bait\")\n",
    "    print(\"2. Print objects from ant_species\")\n",
    "    print(\"3. Print ant_bait with ant_species\")\n",
    "    print(\"4. Print the average of abundance\")\n",
    "    print(\"5. Exit\")"
   ]
  },
  {
   "cell_type": "markdown",
   "metadata": {},
   "source": [
    "Define a dictionary baitlist (key: speciescode, value: abundance)"
   ]
  },
  {
   "cell_type": "code",
   "execution_count": null,
   "metadata": {},
   "outputs": [],
   "source": [
    "def bait_list(Bait):\n",
    "    baitlist = {}\n",
    "    baitlist[Bait.species.speciescode] = Bait.abundance\n",
    "    return baitlist"
   ]
  },
  {
   "cell_type": "markdown",
   "metadata": {},
   "source": [
    "Define print ant_bait(month + year + species + abundance) function"
   ]
  },
  {
   "cell_type": "code",
   "execution_count": null,
   "metadata": {},
   "outputs": [],
   "source": [
    "def print_Bait(Bait):\n",
    "    print(Bait.month, Bait.year, Bait.species.species, Bait.abundance)"
   ]
  },
  {
   "cell_type": "markdown",
   "metadata": {},
   "source": [
    "Define print ant_species(genus + species) function"
   ]
  },
  {
   "cell_type": "code",
   "execution_count": null,
   "metadata": {},
   "outputs": [],
   "source": [
    "def print_species(Species):\n",
    "    print(Species.genus, Species.species)"
   ]
  },
  {
   "cell_type": "code",
   "execution_count": null,
   "metadata": {},
   "outputs": [],
   "source": [
    "while 1:\n",
    "    main_window()\n",
    "    option = int(input(\"Select an option you want\"))"
   ]
  },
  {
   "cell_type": "markdown",
   "metadata": {},
   "source": [
    "Option 1: Print objects from ant_bait(species, month, year, abundance)"
   ]
  },
  {
   "cell_type": "code",
   "execution_count": null,
   "metadata": {},
   "outputs": [],
   "source": [
    "    if option == 1:\n",
    "            with open('ant_bait.csv', 'r') as f:\n",
    "                reader = csv.reader(f)\n",
    "                next(reader, None)\n",
    "                print(\"month\", \"year\", \"species\", \"abundance\")\n",
    "                for row in reader:\n",
    "                    GG = [row[4], row[4], row[4], row[4], row[4], row[4], row[4], row[4]]\n",
    "                    bait.append(Bait(row[0], row[1], row[2], row[3], GG, row[5]))\n",
    "                    print_Bait(Bait(row[0], row[1], row[2], row[3], GG, row[5]))"
   ]
  },
  {
   "cell_type": "markdown",
   "metadata": {},
   "source": [
    "Option 2: Print objects from ant_species(genus, species)"
   ]
  },
  {
   "cell_type": "code",
   "execution_count": null,
   "metadata": {},
   "outputs": [],
   "source": [
    "    elif option == 2:\n",
    "            with open('ant_species.csv', 'r') as g:\n",
    "                reader = csv.reader(g)\n",
    "                next(reader, None)\n",
    "                print(\"genus\", \"species\")\n",
    "                for row in reader:\n",
    "                    info = [row[0], row[1], row[2], row[3], row[4], row[5], row[6], row[7]]\n",
    "                    species.append(print_species(Species(info)))"
   ]
  },
  {
   "cell_type": "markdown",
   "metadata": {},
   "source": [
    "Option 3: Print ant_bait with ant_species"
   ]
  },
  {
   "cell_type": "code",
   "execution_count": null,
   "metadata": {},
   "outputs": [],
   "source": [
    "    elif option == 3:\n",
    "            print(\"month\", \"year\", \"plot\", \"stake\", \"species.speciesid\", \"species.genus\", \"species.altgenus\",\n",
    "                  \"species.species\", \"species.altspecies\", \"species.tribe\", \"species.subfamily\", \"species.IDissues\",\n",
    "                  \"abundance\")\n",
    "            with open('ant_species.csv', 'r') as g:\n",
    "                reader = csv.reader(g)\n",
    "                next(reader, None)\n",
    "                for row in reader:\n",
    "                    XX = row[0]\n",
    "                    CC = row[1]\n",
    "                    VV = row[2]\n",
    "                    BB = row[3]\n",
    "                    NN = row[4]\n",
    "                    MM = row[5]\n",
    "                    AA = row[6]\n",
    "                    SS = row[7]\n",
    "                    DD = [XX, CC, VV, BB, NN, MM, AA, SS]\n",
    "                    species.append(DD)\n",
    "                    with open('ant_bait.csv', 'r') as f:\n",
    "                        reader = csv.reader(f)\n",
    "                        next(reader, None)\n",
    "                        for row in reader:\n",
    "                            if row[4] == XX:\n",
    "                                bait.append(Bait(row[0], row[1], row[2], row[3], DD, row[5]))\n",
    "                                print_bait_species(Bait(row[0], row[1], row[2], row[3], DD, row[5]))"
   ]
  },
  {
   "cell_type": "markdown",
   "metadata": {},
   "source": [
    "Option 4: Print the average of abundance"
   ]
  },
  {
   "cell_type": "code",
   "execution_count": null,
   "metadata": {},
   "outputs": [],
   "source": [
    "    elif option == 4:\n",
    "            with open('ant_species.csv', 'r') as g:\n",
    "                reader = csv.reader(g)\n",
    "                next(reader, None)\n",
    "                for row in reader:\n",
    "                    XX = row[0]\n",
    "                    CC = row[1]\n",
    "                    VV = row[2]\n",
    "                    BB = row[3]\n",
    "                    NN = row[4]\n",
    "                    MM = row[5]\n",
    "                    AA = row[6]\n",
    "                    SS = row[7]\n",
    "                    DD = [XX, CC, VV, BB, NN, MM, AA, SS]\n",
    "                    species.append(DD)\n",
    "                    list1 = []\n",
    "                    with open('ant_bait.csv', 'r') as f:\n",
    "                        reader = csv.reader(f)\n",
    "                        next(reader, None)\n",
    "                        for row in reader:\n",
    "                            if row[4] == XX:\n",
    "                                list1.append(bait_list(Bait(row[0], row[1], row[2], row[3], DD, row[5])))\n",
    "                        for sub in list1:\n",
    "                            for key in sub:\n",
    "                                sub[key] = int(sub[key])\n",
    "                        if list1:\n",
    "                            Len = len(list1)\n",
    "                            result = dict(functools.reduce(operator.add,map(collections.Counter, list1)))\n",
    "                            for key in result:\n",
    "                                avg = float(result[key]) / Len\n",
    "                                print(result.keys())\n",
    "                                print(avg)"
   ]
  },
  {
   "cell_type": "markdown",
   "metadata": {},
   "source": [
    "Option 5: Exit"
   ]
  },
  {
   "cell_type": "code",
   "execution_count": null,
   "metadata": {},
   "outputs": [],
   "source": [
    "    elif option == 5:\n",
    "            break"
   ]
  }
 ],
 "metadata": {
  "kernelspec": {
   "display_name": "Python 3",
   "language": "python",
   "name": "python3"
  },
  "language_info": {
   "codemirror_mode": {
    "name": "ipython",
    "version": 3
   },
   "file_extension": ".py",
   "mimetype": "text/x-python",
   "name": "python",
   "nbconvert_exporter": "python",
   "pygments_lexer": "ipython3",
   "version": "3.7.3"
  }
 },
 "nbformat": 4,
 "nbformat_minor": 2
}
